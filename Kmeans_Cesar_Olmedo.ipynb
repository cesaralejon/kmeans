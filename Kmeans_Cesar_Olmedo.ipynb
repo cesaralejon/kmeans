{
  "nbformat": 4,
  "nbformat_minor": 0,
  "metadata": {
    "colab": {
      "name": "Kmeans_Cesar_Olmedo.ipynb",
      "provenance": [],
      "authorship_tag": "ABX9TyNvglE9EX5/NGjbGdLKbs/T",
      "include_colab_link": true
    },
    "kernelspec": {
      "name": "python3",
      "display_name": "Python 3"
    },
    "language_info": {
      "name": "python"
    }
  },
  "cells": [
    {
      "cell_type": "markdown",
      "metadata": {
        "id": "view-in-github",
        "colab_type": "text"
      },
      "source": [
        "<a href=\"https://colab.research.google.com/github/cesaralejon/kmeans/blob/main/Kmeans_Cesar_Olmedo.ipynb\" target=\"_parent\"><img src=\"https://colab.research.google.com/assets/colab-badge.svg\" alt=\"Open In Colab\"/></a>"
      ]
    },
    {
      "cell_type": "code",
      "execution_count": null,
      "metadata": {
        "id": "YZeZXL1z5OKF"
      },
      "outputs": [],
      "source": [
        ""
      ]
    }
  ]
}